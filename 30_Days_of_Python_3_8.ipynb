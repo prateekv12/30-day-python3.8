{
  "nbformat": 4,
  "nbformat_minor": 0,
  "metadata": {
    "colab": {
      "name": "30 Days of Python 3.8",
      "provenance": [],
      "collapsed_sections": [],
      "authorship_tag": "ABX9TyMtwsFEM7zLC8zeUrJJEhdF",
      "include_colab_link": true
    },
    "kernelspec": {
      "name": "python3",
      "display_name": "Python 3"
    },
    "language_info": {
      "name": "python"
    }
  },
  "cells": [
    {
      "cell_type": "markdown",
      "metadata": {
        "id": "view-in-github",
        "colab_type": "text"
      },
      "source": [
        "<a href=\"https://colab.research.google.com/github/prateekv12/30-day-python3.8/blob/main/30_Days_of_Python_3_8.ipynb\" target=\"_parent\"><img src=\"https://colab.research.google.com/assets/colab-badge.svg\" alt=\"Open In Colab\"/></a>"
      ]
    },
    {
      "cell_type": "markdown",
      "metadata": {
        "id": "WH7kqwyH1TZ3"
      },
      "source": [
        "Day 1 - installation of Python 3.8# New Section"
      ]
    },
    {
      "cell_type": "markdown",
      "metadata": {
        "id": "i2V3t2nV1KFF"
      },
      "source": [
        "Day 2 - Numbers, Variables and Strings# New Section"
      ]
    },
    {
      "cell_type": "code",
      "metadata": {
        "colab": {
          "base_uri": "https://localhost:8080/"
        },
        "id": "WoGjsIeXydJi",
        "outputId": "33a4cf05-b24d-4be9-8a7b-eb0a5f7c3351"
      },
      "source": [
        "#basic coding\n",
        "print (10+10)\n",
        "print (12 * 2)\n",
        "print (32)\n",
        "print (32**3)\n",
        "print (123/14567)"
      ],
      "execution_count": null,
      "outputs": [
        {
          "output_type": "stream",
          "text": [
            "20\n",
            "24\n",
            "32\n",
            "32768\n",
            "0.008443742706116565\n"
          ],
          "name": "stdout"
        }
      ]
    },
    {
      "cell_type": "code",
      "metadata": {
        "colab": {
          "base_uri": "https://localhost:8080/",
          "height": 52
        },
        "id": "sY9vGldtznAe",
        "outputId": "1db41df5-3944-445a-da0a-fba19b79aa79"
      },
      "source": [
        "#strings\n",
        "print(\"hello world\")\n",
        "\"hello world,\" + \" \" + \"this is odd!\" #concatenation"
      ],
      "execution_count": null,
      "outputs": [
        {
          "output_type": "stream",
          "text": [
            "hello world\n"
          ],
          "name": "stdout"
        },
        {
          "output_type": "execute_result",
          "data": {
            "application/vnd.google.colaboratory.intrinsic+json": {
              "type": "string"
            },
            "text/plain": [
              "'hello world, this is odd!'"
            ]
          },
          "metadata": {
            "tags": []
          },
          "execution_count": 19
        }
      ]
    },
    {
      "cell_type": "code",
      "metadata": {
        "colab": {
          "base_uri": "https://localhost:8080/"
        },
        "id": "LyjXU3JNz-Tj",
        "outputId": "41952054-4bee-4ee9-d307-3ee6dce689fe"
      },
      "source": [
        "#variables\n",
        "\n",
        "a= \"and that's what we want to see\"\n",
        "print(a*3)\n",
        "type(a)"
      ],
      "execution_count": null,
      "outputs": [
        {
          "output_type": "stream",
          "text": [
            "and that's what we want to seeand that's what we want to seeand that's what we want to see\n"
          ],
          "name": "stdout"
        },
        {
          "output_type": "execute_result",
          "data": {
            "text/plain": [
              "str"
            ]
          },
          "metadata": {
            "tags": []
          },
          "execution_count": 23
        }
      ]
    },
    {
      "cell_type": "markdown",
      "metadata": {
        "id": "WtKI7l3j1j8Q"
      },
      "source": [
        "Day 3 - Lists & Dictionaries\n"
      ]
    },
    {
      "cell_type": "code",
      "metadata": {
        "id": "RJGx6eVq1qi4",
        "colab": {
          "base_uri": "https://localhost:8080/"
        },
        "outputId": "b2dcbfe2-f85b-4912-e456-af69fec40ec6"
      },
      "source": [
        "#list\n",
        "my_cart = [11, 12.99, 123, 87, 44]\n",
        "print(my_cart)\n",
        "print(sum(my_cart)) #adding the items in a list\n",
        "my_cart.append(55.99) #adding another item to the list\n",
        "print(my_cart)\n",
        "print(len(my_cart)) #prints the number of items in the list\n",
        "my_cart[4] #accessing the item in position 5 (zero indexing)\n",
        "\n",
        "my_items = [\"chips\", \"candy\", \"phone\", \"shoes\", \"socks\", \"watch\"]\n",
        "print(my_items)\n",
        "my_prods = [my_items, my_cart] #a list of lists \n",
        "print(my_prods)"
      ],
      "execution_count": 31,
      "outputs": [
        {
          "output_type": "stream",
          "text": [
            "[11, 12.99, 123, 87, 44]\n",
            "277.99\n",
            "[11, 12.99, 123, 87, 44, 55.99]\n",
            "6\n",
            "['chips', 'candy', 'phone', 'shoes', 'socks', 'watch']\n",
            "[['chips', 'candy', 'phone', 'shoes', 'socks', 'watch'], [11, 12.99, 123, 87, 44, 55.99]]\n"
          ],
          "name": "stdout"
        }
      ]
    },
    {
      "cell_type": "code",
      "metadata": {
        "colab": {
          "base_uri": "https://localhost:8080/"
        },
        "id": "V08gQZT0STbE",
        "outputId": "d23ceda5-2e08-4695-fb95-382a1d655e30"
      },
      "source": [
        "#dictionaries - set of key and value pairs\n",
        "\n",
        "my_data = {\"name\": \"Kimi\", \"location\": \"NJ\"}\n",
        "print(my_data[\"name\"]) #accessing the value using the correspoding key\n",
        "print (my_data[\"location\"]) \n",
        "print(my_data.keys()) #printing all the keys in the dictionary\n",
        "list(my_data.keys()) #printing the keys in the form of a list\n",
        "my_data[\"age\"]=77 #adding new key:value pair to dictionary. very similar to accessing an exisiting key:value pair, in case not found, will create one\n",
        "print(my_data)"
      ],
      "execution_count": 39,
      "outputs": [
        {
          "output_type": "stream",
          "text": [
            "Kimi\n",
            "NJ\n",
            "dict_keys(['name', 'location'])\n",
            "{'name': 'Kimi', 'location': 'NJ', 'age': 77}\n"
          ],
          "name": "stdout"
        }
      ]
    }
  ]
}