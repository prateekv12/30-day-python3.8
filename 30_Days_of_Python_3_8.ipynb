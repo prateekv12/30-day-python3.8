{
  "nbformat": 4,
  "nbformat_minor": 0,
  "metadata": {
    "colab": {
      "name": "30 Days of Python 3.8",
      "provenance": [],
      "collapsed_sections": [],
      "authorship_tag": "ABX9TyP0wWhxykxLneeOox8UMLEp",
      "include_colab_link": true
    },
    "kernelspec": {
      "name": "python3",
      "display_name": "Python 3"
    },
    "language_info": {
      "name": "python"
    }
  },
  "cells": [
    {
      "cell_type": "markdown",
      "metadata": {
        "id": "view-in-github",
        "colab_type": "text"
      },
      "source": [
        "<a href=\"https://colab.research.google.com/github/prateekv12/30-day-python3.8/blob/main/30_Days_of_Python_3_8.ipynb\" target=\"_parent\"><img src=\"https://colab.research.google.com/assets/colab-badge.svg\" alt=\"Open In Colab\"/></a>"
      ]
    },
    {
      "cell_type": "markdown",
      "metadata": {
        "id": "WH7kqwyH1TZ3"
      },
      "source": [
        "Day 1 - installation of Python 3.8# New Section"
      ]
    },
    {
      "cell_type": "markdown",
      "metadata": {
        "id": "i2V3t2nV1KFF"
      },
      "source": [
        "Day 2 - Numbers, Variables and Strings# New Section"
      ]
    },
    {
      "cell_type": "code",
      "metadata": {
        "colab": {
          "base_uri": "https://localhost:8080/"
        },
        "id": "WoGjsIeXydJi",
        "outputId": "33a4cf05-b24d-4be9-8a7b-eb0a5f7c3351"
      },
      "source": [
        "#basic coding\n",
        "print (10+10)\n",
        "print (12 * 2)\n",
        "print (32)\n",
        "print (32**3)\n",
        "print (123/14567)"
      ],
      "execution_count": null,
      "outputs": [
        {
          "output_type": "stream",
          "text": [
            "20\n",
            "24\n",
            "32\n",
            "32768\n",
            "0.008443742706116565\n"
          ],
          "name": "stdout"
        }
      ]
    },
    {
      "cell_type": "code",
      "metadata": {
        "colab": {
          "base_uri": "https://localhost:8080/",
          "height": 52
        },
        "id": "sY9vGldtznAe",
        "outputId": "1db41df5-3944-445a-da0a-fba19b79aa79"
      },
      "source": [
        "#strings\n",
        "print(\"hello world\")\n",
        "\"hello world,\" + \" \" + \"this is odd!\" #concatenation"
      ],
      "execution_count": null,
      "outputs": [
        {
          "output_type": "stream",
          "text": [
            "hello world\n"
          ],
          "name": "stdout"
        },
        {
          "output_type": "execute_result",
          "data": {
            "application/vnd.google.colaboratory.intrinsic+json": {
              "type": "string"
            },
            "text/plain": [
              "'hello world, this is odd!'"
            ]
          },
          "metadata": {
            "tags": []
          },
          "execution_count": 19
        }
      ]
    },
    {
      "cell_type": "code",
      "metadata": {
        "colab": {
          "base_uri": "https://localhost:8080/"
        },
        "id": "LyjXU3JNz-Tj",
        "outputId": "41952054-4bee-4ee9-d307-3ee6dce689fe"
      },
      "source": [
        "#variables\n",
        "\n",
        "a= \"and that's what we want to see\"\n",
        "print(a*3)\n",
        "type(a)"
      ],
      "execution_count": null,
      "outputs": [
        {
          "output_type": "stream",
          "text": [
            "and that's what we want to seeand that's what we want to seeand that's what we want to see\n"
          ],
          "name": "stdout"
        },
        {
          "output_type": "execute_result",
          "data": {
            "text/plain": [
              "str"
            ]
          },
          "metadata": {
            "tags": []
          },
          "execution_count": 23
        }
      ]
    },
    {
      "cell_type": "markdown",
      "metadata": {
        "id": "WtKI7l3j1j8Q"
      },
      "source": [
        "Day 3 - Lists & Dictionaries\n"
      ]
    },
    {
      "cell_type": "code",
      "metadata": {
        "id": "RJGx6eVq1qi4",
        "colab": {
          "base_uri": "https://localhost:8080/"
        },
        "outputId": "dad9abb1-6528-4a45-ac03-e0b005365100"
      },
      "source": [
        "#list\n",
        "my_cart = [11, 12.99, 123, 87, 44]\n",
        "print(my_cart)\n",
        "print(sum(my_cart)) #adding the items in a list\n",
        "my_cart.append(55.99) #adding another item to the list\n",
        "print(my_cart)\n",
        "print(len(my_cart)) #prints the number of items in the list"
      ],
      "execution_count": 29,
      "outputs": [
        {
          "output_type": "stream",
          "text": [
            "[11, 12.99, 123, 87, 44]\n",
            "277.99\n",
            "[11, 12.99, 123, 87, 44, 55.99]\n",
            "6\n"
          ],
          "name": "stdout"
        }
      ]
    }
  ]
}